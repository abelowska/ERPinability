{
 "cells": [
  {
   "cell_type": "code",
   "execution_count": 68,
   "id": "initial_id",
   "metadata": {
    "collapsed": true,
    "ExecuteTime": {
     "end_time": "2023-12-13T15:07:35.193671Z",
     "start_time": "2023-12-13T15:07:35.192280Z"
    }
   },
   "outputs": [],
   "source": [
    "import pandas as pd"
   ]
  },
  {
   "cell_type": "code",
   "execution_count": 72,
   "outputs": [
    {
     "data": {
      "text/plain": "  block type trial type   cue name target name       response        rt  \\\n0   training         go  1_neutral   1_color_1  num_separator  0.361603   \n1   training         go  2_neutral   2_color_1            NaN       NaN   \n2   training         go  2_neutral   2_color_1  num_separator  0.298912   \n3   training         go  2_neutral   2_color_1  num_separator  0.333719   \n4   training         go  2_neutral   2_color_1  num_separator  0.611271   \n\n   reaction  cal mean rt  cutoff  \n0      True          0.0     NaN  \n1     False          0.0     NaN  \n2      True          0.0     NaN  \n3      True          0.0     NaN  \n4      True          0.0     NaN  ",
      "text/html": "<div>\n<style scoped>\n    .dataframe tbody tr th:only-of-type {\n        vertical-align: middle;\n    }\n\n    .dataframe tbody tr th {\n        vertical-align: top;\n    }\n\n    .dataframe thead th {\n        text-align: right;\n    }\n</style>\n<table border=\"1\" class=\"dataframe\">\n  <thead>\n    <tr style=\"text-align: right;\">\n      <th></th>\n      <th>block type</th>\n      <th>trial type</th>\n      <th>cue name</th>\n      <th>target name</th>\n      <th>response</th>\n      <th>rt</th>\n      <th>reaction</th>\n      <th>cal mean rt</th>\n      <th>cutoff</th>\n    </tr>\n  </thead>\n  <tbody>\n    <tr>\n      <th>0</th>\n      <td>training</td>\n      <td>go</td>\n      <td>1_neutral</td>\n      <td>1_color_1</td>\n      <td>num_separator</td>\n      <td>0.361603</td>\n      <td>True</td>\n      <td>0.0</td>\n      <td>NaN</td>\n    </tr>\n    <tr>\n      <th>1</th>\n      <td>training</td>\n      <td>go</td>\n      <td>2_neutral</td>\n      <td>2_color_1</td>\n      <td>NaN</td>\n      <td>NaN</td>\n      <td>False</td>\n      <td>0.0</td>\n      <td>NaN</td>\n    </tr>\n    <tr>\n      <th>2</th>\n      <td>training</td>\n      <td>go</td>\n      <td>2_neutral</td>\n      <td>2_color_1</td>\n      <td>num_separator</td>\n      <td>0.298912</td>\n      <td>True</td>\n      <td>0.0</td>\n      <td>NaN</td>\n    </tr>\n    <tr>\n      <th>3</th>\n      <td>training</td>\n      <td>go</td>\n      <td>2_neutral</td>\n      <td>2_color_1</td>\n      <td>num_separator</td>\n      <td>0.333719</td>\n      <td>True</td>\n      <td>0.0</td>\n      <td>NaN</td>\n    </tr>\n    <tr>\n      <th>4</th>\n      <td>training</td>\n      <td>go</td>\n      <td>2_neutral</td>\n      <td>2_color_1</td>\n      <td>num_separator</td>\n      <td>0.611271</td>\n      <td>True</td>\n      <td>0.0</td>\n      <td>NaN</td>\n    </tr>\n  </tbody>\n</table>\n</div>"
     },
     "execution_count": 72,
     "metadata": {},
     "output_type": "execute_result"
    }
   ],
   "source": [
    "root_dir = 'data/GNG/behavioral/'\n",
    "file_name = 'beh_A-GNG-219'\n",
    "behavioral_data_df = pd.read_csv(f'{root_dir}{file_name}.csv')\n",
    "behavioral_data_df.head()"
   ],
   "metadata": {
    "collapsed": false,
    "ExecuteTime": {
     "end_time": "2023-12-13T15:31:31.705647Z",
     "start_time": "2023-12-13T15:31:31.547436Z"
    }
   },
   "id": "3ad474daa46ada2e"
  },
  {
   "cell_type": "code",
   "execution_count": 73,
   "outputs": [
    {
     "data": {
      "text/plain": "     block type trial type   cue name target name       response        rt  \\\n0      training         go  1_neutral   1_color_1  num_separator  0.361603   \n1      training         go  2_neutral   2_color_1            NaN       NaN   \n2      training         go  2_neutral   2_color_1  num_separator  0.298912   \n3      training         go  2_neutral   2_color_1  num_separator  0.333719   \n4      training         go  2_neutral   2_color_1  num_separator  0.611271   \n..          ...        ...        ...         ...            ...       ...   \n419  experiment      shape  2_neutral   1_color_1  num_separator  0.250240   \n420  experiment         go  2_neutral   2_color_1  num_separator  0.264423   \n421  experiment         go  2_neutral   2_color_1  num_separator  0.264498   \n422  experiment         go  1_neutral   1_color_1  num_separator  0.292339   \n423  experiment      color  2_neutral   2_color_2            NaN       NaN   \n\n     reaction  cal mean rt  cutoff  trial number  \n0        True     0.000000     NaN             0  \n1       False     0.000000     NaN             0  \n2        True     0.000000     NaN             0  \n3        True     0.000000     NaN             0  \n4        True     0.000000     NaN             0  \n..        ...          ...     ...           ...  \n419     False     0.349391     0.2           332  \n420      True     0.349391     0.2           333  \n421      True     0.349391     0.2           334  \n422     False     0.349391     0.2           335  \n423      True     0.349391     0.2           336  \n\n[424 rows x 10 columns]",
      "text/html": "<div>\n<style scoped>\n    .dataframe tbody tr th:only-of-type {\n        vertical-align: middle;\n    }\n\n    .dataframe tbody tr th {\n        vertical-align: top;\n    }\n\n    .dataframe thead th {\n        text-align: right;\n    }\n</style>\n<table border=\"1\" class=\"dataframe\">\n  <thead>\n    <tr style=\"text-align: right;\">\n      <th></th>\n      <th>block type</th>\n      <th>trial type</th>\n      <th>cue name</th>\n      <th>target name</th>\n      <th>response</th>\n      <th>rt</th>\n      <th>reaction</th>\n      <th>cal mean rt</th>\n      <th>cutoff</th>\n      <th>trial number</th>\n    </tr>\n  </thead>\n  <tbody>\n    <tr>\n      <th>0</th>\n      <td>training</td>\n      <td>go</td>\n      <td>1_neutral</td>\n      <td>1_color_1</td>\n      <td>num_separator</td>\n      <td>0.361603</td>\n      <td>True</td>\n      <td>0.000000</td>\n      <td>NaN</td>\n      <td>0</td>\n    </tr>\n    <tr>\n      <th>1</th>\n      <td>training</td>\n      <td>go</td>\n      <td>2_neutral</td>\n      <td>2_color_1</td>\n      <td>NaN</td>\n      <td>NaN</td>\n      <td>False</td>\n      <td>0.000000</td>\n      <td>NaN</td>\n      <td>0</td>\n    </tr>\n    <tr>\n      <th>2</th>\n      <td>training</td>\n      <td>go</td>\n      <td>2_neutral</td>\n      <td>2_color_1</td>\n      <td>num_separator</td>\n      <td>0.298912</td>\n      <td>True</td>\n      <td>0.000000</td>\n      <td>NaN</td>\n      <td>0</td>\n    </tr>\n    <tr>\n      <th>3</th>\n      <td>training</td>\n      <td>go</td>\n      <td>2_neutral</td>\n      <td>2_color_1</td>\n      <td>num_separator</td>\n      <td>0.333719</td>\n      <td>True</td>\n      <td>0.000000</td>\n      <td>NaN</td>\n      <td>0</td>\n    </tr>\n    <tr>\n      <th>4</th>\n      <td>training</td>\n      <td>go</td>\n      <td>2_neutral</td>\n      <td>2_color_1</td>\n      <td>num_separator</td>\n      <td>0.611271</td>\n      <td>True</td>\n      <td>0.000000</td>\n      <td>NaN</td>\n      <td>0</td>\n    </tr>\n    <tr>\n      <th>...</th>\n      <td>...</td>\n      <td>...</td>\n      <td>...</td>\n      <td>...</td>\n      <td>...</td>\n      <td>...</td>\n      <td>...</td>\n      <td>...</td>\n      <td>...</td>\n      <td>...</td>\n    </tr>\n    <tr>\n      <th>419</th>\n      <td>experiment</td>\n      <td>shape</td>\n      <td>2_neutral</td>\n      <td>1_color_1</td>\n      <td>num_separator</td>\n      <td>0.250240</td>\n      <td>False</td>\n      <td>0.349391</td>\n      <td>0.2</td>\n      <td>332</td>\n    </tr>\n    <tr>\n      <th>420</th>\n      <td>experiment</td>\n      <td>go</td>\n      <td>2_neutral</td>\n      <td>2_color_1</td>\n      <td>num_separator</td>\n      <td>0.264423</td>\n      <td>True</td>\n      <td>0.349391</td>\n      <td>0.2</td>\n      <td>333</td>\n    </tr>\n    <tr>\n      <th>421</th>\n      <td>experiment</td>\n      <td>go</td>\n      <td>2_neutral</td>\n      <td>2_color_1</td>\n      <td>num_separator</td>\n      <td>0.264498</td>\n      <td>True</td>\n      <td>0.349391</td>\n      <td>0.2</td>\n      <td>334</td>\n    </tr>\n    <tr>\n      <th>422</th>\n      <td>experiment</td>\n      <td>go</td>\n      <td>1_neutral</td>\n      <td>1_color_1</td>\n      <td>num_separator</td>\n      <td>0.292339</td>\n      <td>False</td>\n      <td>0.349391</td>\n      <td>0.2</td>\n      <td>335</td>\n    </tr>\n    <tr>\n      <th>423</th>\n      <td>experiment</td>\n      <td>color</td>\n      <td>2_neutral</td>\n      <td>2_color_2</td>\n      <td>NaN</td>\n      <td>NaN</td>\n      <td>True</td>\n      <td>0.349391</td>\n      <td>0.2</td>\n      <td>336</td>\n    </tr>\n  </tbody>\n</table>\n<p>424 rows × 10 columns</p>\n</div>"
     },
     "execution_count": 73,
     "metadata": {},
     "output_type": "execute_result"
    }
   ],
   "source": [
    "trial_numerator = 1\n",
    "trial_numbers = []\n",
    "for i in range(0, len(behavioral_data_df)):\n",
    "    if behavioral_data_df.iloc[i]['block type'] != 'experiment':\n",
    "        trial_numbers.append(0)\n",
    "    else:\n",
    "        trial_numbers.append(trial_numerator)\n",
    "        trial_numerator+=1\n",
    "\n",
    "behavioral_data_df['trial number'] = trial_numbers\n",
    "behavioral_data_df"
   ],
   "metadata": {
    "collapsed": false,
    "ExecuteTime": {
     "end_time": "2023-12-13T15:31:32.516018Z",
     "start_time": "2023-12-13T15:31:32.512027Z"
    }
   },
   "id": "c22bc69ed8266fa8"
  },
  {
   "cell_type": "code",
   "execution_count": 74,
   "outputs": [
    {
     "name": "stdout",
     "output_type": "stream",
     "text": [
      "Number of uninhibited NOGO trials: 24\n",
      "Number of inhibited NOGO trials: 88\n",
      "Number correct GO trials: 224\n"
     ]
    }
   ],
   "source": [
    "beh_data_uninhibited_nogo_responses_df = behavioral_data_df[\n",
    "    (behavioral_data_df['block type'] == 'experiment') &\n",
    "    (behavioral_data_df['trial type'] != 'go') &\n",
    "    (behavioral_data_df['reaction'] == False)\n",
    "]\n",
    "print(f'Number of uninhibited NOGO trials: {len(beh_data_uninhibited_nogo_responses_df)}')\n",
    "\n",
    "beh_data_inhibited_nogo_responses_df = behavioral_data_df[\n",
    "    (behavioral_data_df['block type'] == 'experiment') &\n",
    "    (behavioral_data_df['trial type'] != 'go') &\n",
    "    (behavioral_data_df['reaction'] == True)\n",
    "    ]\n",
    "print(f'Number of inhibited NOGO trials: {len(beh_data_inhibited_nogo_responses_df)}')\n",
    "\n",
    "beh_data_correct_go_responses_df = behavioral_data_df[\n",
    "    (behavioral_data_df['block type'] == 'experiment') &\n",
    "    (behavioral_data_df['trial type'] == 'go')\n",
    "    ]\n",
    "print(f'Number correct GO trials: {len(beh_data_correct_go_responses_df)}')"
   ],
   "metadata": {
    "collapsed": false,
    "ExecuteTime": {
     "end_time": "2023-12-13T15:31:33.277539Z",
     "start_time": "2023-12-13T15:31:33.270824Z"
    }
   },
   "id": "4754c17ee1df15c3"
  }
 ],
 "metadata": {
  "kernelspec": {
   "display_name": "Python 3",
   "language": "python",
   "name": "python3"
  },
  "language_info": {
   "codemirror_mode": {
    "name": "ipython",
    "version": 2
   },
   "file_extension": ".py",
   "mimetype": "text/x-python",
   "name": "python",
   "nbconvert_exporter": "python",
   "pygments_lexer": "ipython2",
   "version": "2.7.6"
  }
 },
 "nbformat": 4,
 "nbformat_minor": 5
}
