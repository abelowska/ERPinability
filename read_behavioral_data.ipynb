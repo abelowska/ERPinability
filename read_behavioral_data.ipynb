{
 "cells": [
  {
   "cell_type": "code",
   "execution_count": null,
   "outputs": [],
   "source": [
    "import pandas as pd"
   ],
   "metadata": {
    "collapsed": false
   },
   "id": "bffecef90b127bbd"
  },
  {
   "cell_type": "code",
   "execution_count": null,
   "outputs": [],
   "source": [
    "root_dir = 'data/GNG/behavioral/'\n",
    "file_name = 'beh_A-GNG-219'\n",
    "behavioral_data_df = pd.read_csv(f'{root_dir}{file_name}.csv')\n",
    "behavioral_data_df.head()"
   ],
   "metadata": {
    "collapsed": false
   },
   "id": "3ad474daa46ada2e"
  },
  {
   "cell_type": "code",
   "execution_count": null,
   "outputs": [],
   "source": [
    "trial_numerator = 1\n",
    "trial_numbers = []\n",
    "for i in range(0, len(behavioral_data_df)):\n",
    "    if behavioral_data_df.iloc[i]['block type'] != 'experiment':\n",
    "        trial_numbers.append(0)\n",
    "    else:\n",
    "        trial_numbers.append(trial_numerator)\n",
    "        trial_numerator+=1\n",
    "\n",
    "behavioral_data_df['trial number'] = trial_numbers\n",
    "behavioral_data_df"
   ],
   "metadata": {
    "collapsed": false
   },
   "id": "c22bc69ed8266fa8"
  },
  {
   "cell_type": "code",
   "execution_count": null,
   "outputs": [],
   "source": [
    "beh_data_uninhibited_nogo_responses_df = behavioral_data_df[\n",
    "    (behavioral_data_df['block type'] == 'experiment') &\n",
    "    (behavioral_data_df['trial type'] != 'go') &\n",
    "    (behavioral_data_df['reaction'] == False)\n",
    "]\n",
    "print(f'Number of uninhibited NOGO trials: {len(beh_data_uninhibited_nogo_responses_df)}')\n",
    "\n",
    "beh_data_inhibited_nogo_responses_df = behavioral_data_df[\n",
    "    (behavioral_data_df['block type'] == 'experiment') &\n",
    "    (behavioral_data_df['trial type'] != 'go') &\n",
    "    (behavioral_data_df['reaction'] == True)\n",
    "    ]\n",
    "print(f'Number of inhibited NOGO trials: {len(beh_data_inhibited_nogo_responses_df)}')\n",
    "\n",
    "beh_data_correct_go_responses_df = behavioral_data_df[\n",
    "    (behavioral_data_df['block type'] == 'experiment') &\n",
    "    (behavioral_data_df['trial type'] == 'go')\n",
    "    ]\n",
    "print(f'Number correct GO trials: {len(beh_data_correct_go_responses_df)}')"
   ],
   "metadata": {
    "collapsed": false
   },
   "id": "4754c17ee1df15c3"
  },
  {
   "cell_type": "code",
   "execution_count": null,
   "outputs": [],
   "source": [
    "beh_data_uninhibited_nogo_responses_df"
   ],
   "metadata": {
    "collapsed": false
   },
   "id": "b10dd56f9515ff6b"
  },
  {
   "cell_type": "code",
   "execution_count": null,
   "outputs": [],
   "source": [
    "beh_data_correct_go_responses_df"
   ],
   "metadata": {
    "collapsed": false
   },
   "id": "854e7453b7db2e3e"
  },
  {
   "cell_type": "code",
   "execution_count": null,
   "outputs": [],
   "source": [
    "reaction_df = pd.concat([beh_data_uninhibited_nogo_responses_df, beh_data_correct_go_responses_df])\n",
    "reaction_df = reaction_df.sort_values(by='trial number')"
   ],
   "metadata": {
    "collapsed": false
   },
   "id": "96ba40442248a0eb"
  },
  {
   "cell_type": "code",
   "execution_count": null,
   "outputs": [],
   "source": [
    "reaction_df"
   ],
   "metadata": {
    "collapsed": false
   },
   "id": "9494d5ccab8ef5ab"
  },
  {
   "cell_type": "code",
   "execution_count": null,
   "outputs": [],
   "source": [],
   "metadata": {
    "collapsed": false
   },
   "id": "f3fadec9ca190b02"
  }
 ],
 "metadata": {
  "kernelspec": {
   "display_name": "Python 3",
   "language": "python",
   "name": "python3"
  },
  "language_info": {
   "codemirror_mode": {
    "name": "ipython",
    "version": 2
   },
   "file_extension": ".py",
   "mimetype": "text/x-python",
   "name": "python",
   "nbconvert_exporter": "python",
   "pygments_lexer": "ipython2",
   "version": "2.7.6"
  }
 },
 "nbformat": 4,
 "nbformat_minor": 5
}
